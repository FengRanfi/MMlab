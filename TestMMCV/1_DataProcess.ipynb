{
 "cells": [
  {
   "cell_type": "markdown",
   "metadata": {},
   "source": [
    "## Read/Write/Show\n",
    "\n",
    "To read or write images files, use imread or imwrite"
   ]
  },
  {
   "cell_type": "code",
   "execution_count": 3,
   "metadata": {},
   "outputs": [
    {
     "data": {
      "text/plain": [
       "True"
      ]
     },
     "execution_count": 3,
     "metadata": {},
     "output_type": "execute_result"
    }
   ],
   "source": [
    "import mmcv\n",
    "\n",
    "img = mmcv.imread('test.jpg')\n",
    "img = mmcv.imread('test.jpg', flag='grayscale')\n",
    "img_ = mmcv.imread(img)  # nothing will happen, img_ = img\n",
    "mmcv.imwrite(img, 'out.jpg')"
   ]
  },
  {
   "cell_type": "markdown",
   "metadata": {},
   "source": [
    "To read images from bytes"
   ]
  },
  {
   "cell_type": "code",
   "execution_count": 4,
   "metadata": {},
   "outputs": [],
   "source": [
    "with open('test.jpg', 'rb') as f:\n",
    "    data = f.read()\n",
    "img = mmcv.imfrombytes(data)"
   ]
  },
  {
   "cell_type": "markdown",
   "metadata": {},
   "source": [
    "To show an image file or a loaded image"
   ]
  },
  {
   "cell_type": "code",
   "execution_count": null,
   "metadata": {},
   "outputs": [],
   "source": [
    "# mmcv.imshow('test.jpg')\n",
    "# this is equivalent to\n",
    "\n",
    "# for i in range(10):\n",
    "#     img = np.random.randint(256, size=(100, 100, 3), dtype=np.uint8)\n",
    "#     mmcv.imshow(img, win_name='test image', wait_time=200)"
   ]
  },
  {
   "cell_type": "markdown",
   "metadata": {},
   "source": [
    "## Color space conversion  色彩空间转换\n",
    "\n",
    "Supported conversion methods:\n",
    "支持的转换方法：\n",
    "\n",
    "    bgr2gray  灰度\n",
    "\n",
    "    gray2bgr\n",
    "\n",
    "    bgr2rgb  灰度2RGB\n",
    "\n",
    "    rgb2bgr  RGB2BGR 复制\n",
    "\n",
    "    bgr2hsv\n",
    "\n",
    "    hsv2bgr\n"
   ]
  },
  {
   "cell_type": "code",
   "execution_count": null,
   "metadata": {},
   "outputs": [],
   "source": [
    "img = mmcv.imread('test.jpg')\n",
    "img_in2=mmcv.imread('out.jpg')\n",
    "img1 = mmcv.bgr2rgb(img)\n",
    "img2 = mmcv.rgb2gray(img)\n",
    "img3 = mmcv.bgr2hsv(img_in2)\n",
    "mmcv.imwrite(img1,\"img1.jpg\")\n",
    "mmcv.imwrite(img2,\"img2.jpg\")\n",
    "mmcv.imwrite(img3,\"img3.jpg\")"
   ]
  },
  {
   "cell_type": "markdown",
   "metadata": {},
   "source": [
    "## Resize  调整大小\n",
    "\n",
    "There are three resize methods. All imresize_* methods have an argument return_scale, if this argument is False, then the return value is merely the resized image, otherwise is a tuple (resized_img, scale).\n",
    "有三种调整大小的方法。所有imresize_*方法都有一个参数return_scale ，如果此参数为False ，则返回值仅仅是调整大小后的图像，否则是一个元组(resized_img, scale) 。"
   ]
  },
  {
   "cell_type": "code",
   "execution_count": 18,
   "metadata": {},
   "outputs": [
    {
     "name": "stdout",
     "output_type": "stream",
     "text": [
      "(600, 1000, 3) 0.20358306188925082\n",
      "(600, 1000, 3)\n",
      "(1632, 2456, 3)\n",
      "(664, 1000, 3)\n"
     ]
    }
   ],
   "source": [
    "# resize to a given size\n",
    "dst_img=mmcv.imresize(img, (1000, 600), return_scale=True)\n",
    "print(dst_img[0].shape,dst_img[1])\n",
    "# resize to the same size of another image\n",
    "dst_img2=mmcv.imresize_like(img, dst_img[0], return_scale=False)\n",
    "print(dst_img2.shape)\n",
    "# resize by a ratio\n",
    "dst_img3=mmcv.imrescale(img, 0.5)\n",
    "print(dst_img3.shape)\n",
    "# resize so that the max edge no longer than 1000, short edge no longer than 800\n",
    "# without changing the aspect ratio\n",
    "dst_img4=mmcv.imrescale(img, (1000, 800))\n",
    "print(dst_img4.shape)"
   ]
  },
  {
   "cell_type": "markdown",
   "metadata": {},
   "source": [
    "## Rotate  旋转\n",
    "\n",
    "To rotate an image by some angle, use imrotate. The center can be specified, which is the center of original image by default. There are two modes of rotating, one is to keep the image size unchanged so that some parts of the image will be cropped after rotating, the other is to extend the image size to fit the rotated image.\n",
    "imrotate用来将图片旋转一定角度。可以指定旋转中心，默认为原图中心。旋转有两种模式，一种是保持图片大小不变，旋转后图片会被裁剪掉一部分；另一种是扩大图片大小以适应旋转后的图片。"
   ]
  },
  {
   "cell_type": "code",
   "execution_count": 19,
   "metadata": {},
   "outputs": [
    {
     "data": {
      "text/plain": [
       "True"
      ]
     },
     "execution_count": 19,
     "metadata": {},
     "output_type": "execute_result"
    }
   ],
   "source": [
    "img = mmcv.imread('test.jpg')\n",
    "\n",
    "# rotate the image clockwise by 30 degrees.\n",
    "img1 = mmcv.imrotate(img, 30)\n",
    "\n",
    "# rotate the image counterclockwise by 90 degrees.\n",
    "#  img_ = mmcv.imrotate(img, -90)\n",
    "\n",
    "# rotate the image clockwise by 30 degrees, and rescale it by 1.5x at the same time.\n",
    "img2 = mmcv.imrotate(img, 30, scale=1.5)\n",
    "\n",
    "# rotate the image clockwise by 30 degrees, with (100, 100) as the center.\n",
    "img3 = mmcv.imrotate(img, 30, center=(100, 100))\n",
    "\n",
    "# rotate the image clockwise by 30 degrees, and extend the image size.\n",
    "img4 = mmcv.imrotate(img, 30, auto_bound=True)\n",
    "\n",
    "mmcv.imwrite(img1,\"img1.jpg\")\n",
    "mmcv.imwrite(img2,\"img2.jpg\")\n",
    "mmcv.imwrite(img3,\"img3.jpg\")\n",
    "mmcv.imwrite(img4,\"img4.jpg\")"
   ]
  },
  {
   "cell_type": "markdown",
   "metadata": {},
   "source": [
    "## Flip  翻动\n",
    "\n",
    "To flip an image, use imflip.\n",
    "要翻转图像，请使用imflip 。"
   ]
  },
  {
   "cell_type": "code",
   "execution_count": 20,
   "metadata": {},
   "outputs": [
    {
     "data": {
      "text/plain": [
       "True"
      ]
     },
     "execution_count": 20,
     "metadata": {},
     "output_type": "execute_result"
    }
   ],
   "source": [
    "img = mmcv.imread('test.jpg')\n",
    "\n",
    "# flip the image horizontally\n",
    "img1 = mmcv.imflip(img)\n",
    "\n",
    "# flip the image vertically\n",
    "img2 = mmcv.imflip(img, direction='vertical')\n",
    "mmcv.imwrite(img1,\"img1.jpg\")\n",
    "mmcv.imwrite(img2,\"img2.jpg\")\n"
   ]
  },
  {
   "cell_type": "markdown",
   "metadata": {},
   "source": [
    "## Crop  庄稼\n",
    "\n",
    "imcrop can crop the image with one or more regions. Each region is represented by the upper left and lower right coordinates as (x1, y1, x2, y2).\n",
    "imcrop可以裁剪图像一个或多个区域，每个区域用左上角和右下角坐标 (x1, y1, x2, y2) 表示。"
   ]
  },
  {
   "cell_type": "code",
   "execution_count": 22,
   "metadata": {},
   "outputs": [
    {
     "data": {
      "text/plain": [
       "True"
      ]
     },
     "execution_count": 22,
     "metadata": {},
     "output_type": "execute_result"
    }
   ],
   "source": [
    "import mmcv\n",
    "import numpy as np\n",
    "\n",
    "img = mmcv.imread('test.jpg')\n",
    "\n",
    "# crop the region (10, 10, 100, 120)\n",
    "bboxes = np.array([10, 10, 100, 120])\n",
    "img1 = mmcv.imcrop(img, bboxes)\n",
    "\n",
    "# crop two regions (10, 10, 100, 120) and (0, 0, 50, 50)\n",
    "bboxes = np.array([[10, 10, 100, 120], [0, 0, 50, 50]])\n",
    "img2 = mmcv.imcrop(img, bboxes)\n",
    "\n",
    "# crop two regions, and rescale the patches by 1.2x\n",
    "img3 = mmcv.imcrop(img, bboxes, scale=1.2)\n",
    "mmcv.imwrite(img1,\"img1.jpg\")\n",
    "mmcv.imwrite(img2[0],\"img2.jpg\")\n",
    "mmcv.imwrite(img2[1],\"img3.jpg\")\n",
    "mmcv.imwrite(img3[0],\"img4.jpg\")\n",
    "mmcv.imwrite(img3[1],\"img5.jpg\")"
   ]
  },
  {
   "cell_type": "markdown",
   "metadata": {},
   "source": [
    "## Padding  填充\n",
    "\n",
    "There are two methods, impad and impad_to_multiple, to pad an image to the specific size with given values.\n",
    "有两种方法， impad和impad_to_multiple ，用于使用给定的值将图像填充到特定大小。"
   ]
  },
  {
   "cell_type": "code",
   "execution_count": 24,
   "metadata": {},
   "outputs": [
    {
     "data": {
      "text/plain": [
       "True"
      ]
     },
     "execution_count": 24,
     "metadata": {},
     "output_type": "execute_result"
    }
   ],
   "source": [
    "img = mmcv.imread('test.jpg')\n",
    "\n",
    "# pad the image to (1000, 1200) with all zeros\n",
    "img1 = mmcv.impad(img, shape=(1000, 1200), pad_val=0)\n",
    "\n",
    "# pad the image to (1000, 1200) with different values for three channels.\n",
    "img2 = mmcv.impad(img, shape=(1000, 1200), pad_val=(100, 50, 200))\n",
    "\n",
    "# pad the image on left, right, top, bottom borders with all zeros\n",
    "img3 = mmcv.impad(img, padding=(10, 20, 30, 40), pad_val=0)\n",
    "\n",
    "# pad the image on left, right, top, bottom borders with different values\n",
    "# for three channels.\n",
    "img4 = mmcv.impad(img, padding=(10, 20, 30, 40), pad_val=(100, 50, 200))\n",
    "\n",
    "# pad an image so that each edge is a multiple of some value.\n",
    "img5 = mmcv.impad_to_multiple(img, 32)\n",
    "mmcv.imwrite(img1,\"img1.jpg\")\n",
    "mmcv.imwrite(img2,\"img2.jpg\")\n",
    "mmcv.imwrite(img3,\"img3.jpg\")\n",
    "mmcv.imwrite(img4,\"img4.jpg\")\n",
    "mmcv.imwrite(img5,\"img5.jpg\")\n"
   ]
  },
  {
   "cell_type": "markdown",
   "metadata": {},
   "source": [
    "## Video  视频\n",
    "\n",
    "This module provides the following functionalities:\n",
    "该模块提供以下功能：\n",
    "\n",
    "    A VideoReader class with friendly apis to read and convert videos.\n",
    "    具有友好 API 的VideoReader类，用于读取和转换视频。\n",
    "\n",
    "    Some methods for editing (cut, concat, resize) videos.\n",
    "    一些编辑（剪切、连接、调整大小）视频的方法。\n",
    "\n",
    "    Optical flow read/write/warp.\n",
    "    光流读/写/扭曲。\n",
    "\n",
    "VideoReader  视频阅读器\n",
    "\n",
    "The VideoReader class provides sequence like apis to access video frames. It will internally cache the frames which have been visited.\n",
    "VideoReader类提供了类似序列的 API 来访问视频帧。它会在内部缓存已访问过的帧。"
   ]
  },
  {
   "cell_type": "markdown",
   "metadata": {},
   "source": []
  }
 ],
 "metadata": {
  "kernelspec": {
   "display_name": "FranfiEnvMmcv",
   "language": "python",
   "name": "python3"
  },
  "language_info": {
   "codemirror_mode": {
    "name": "ipython",
    "version": 3
   },
   "file_extension": ".py",
   "mimetype": "text/x-python",
   "name": "python",
   "nbconvert_exporter": "python",
   "pygments_lexer": "ipython3",
   "version": "3.10.12"
  }
 },
 "nbformat": 4,
 "nbformat_minor": 2
}
